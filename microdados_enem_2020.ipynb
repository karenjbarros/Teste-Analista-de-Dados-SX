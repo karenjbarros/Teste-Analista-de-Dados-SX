{
 "cells": [
  {
   "cell_type": "markdown",
   "id": "d0ffc832-3fa2-48b8-a7ae-aa64916fb093",
   "metadata": {},
   "source": [
    "# Imports"
   ]
  },
  {
   "cell_type": "code",
   "execution_count": 1,
   "id": "b6188f2d-7e9d-4c2b-ab27-e7e7e61b004b",
   "metadata": {},
   "outputs": [],
   "source": [
    "import csv\n",
    "import mysql.connector as mysql\n",
    "from concurrent.futures import ThreadPoolExecutor"
   ]
  },
  {
   "cell_type": "markdown",
   "id": "8ced6f67-91d4-4263-a364-d4501354f866",
   "metadata": {},
   "source": [
    "# MySQL Connection"
   ]
  },
  {
   "cell_type": "code",
   "execution_count": 22,
   "id": "889d9e2c-4b13-4cdd-b254-8e9d1c67ee3f",
   "metadata": {},
   "outputs": [],
   "source": [
    "conn = mysql.connect(\n",
    "    host=\"localhost\",\n",
    "    user=\"root\",\n",
    "    password=\"karenjblab2025\",\n",
    "    database=\"enem\"\n",
    ")"
   ]
  },
  {
   "cell_type": "code",
   "execution_count": 3,
   "id": "d01c2fe7-1318-4544-a70c-15d160ed8f22",
   "metadata": {},
   "outputs": [],
   "source": [
    "cursor = conn.cursor()"
   ]
  },
  {
   "cell_type": "markdown",
   "id": "b7b94ce6-2807-4b90-9c61-b0ffe2bd2dbd",
   "metadata": {},
   "source": [
    "# Dimensional Modeling"
   ]
  },
  {
   "cell_type": "markdown",
   "id": "22552f0d-0512-4c19-8a1d-961df7ee04bd",
   "metadata": {},
   "source": [
    "## Dimension Tables"
   ]
  },
  {
   "cell_type": "markdown",
   "id": "7a1d0eb9-4f63-495d-92c9-d786c20626e3",
   "metadata": {},
   "source": [
    "### dimension_enrollment"
   ]
  },
  {
   "cell_type": "markdown",
   "id": "630505b0-ae8d-4967-bed2-a31322bbf5ad",
   "metadata": {},
   "source": [
    "#### Data Read"
   ]
  },
  {
   "cell_type": "code",
   "execution_count": 4,
   "id": "8ac510e4-84a5-4e54-b954-17e0591ac4db",
   "metadata": {},
   "outputs": [],
   "source": [
    "# Leitura do arquivo CSV\n",
    "data_dimension_enrollment = []\n",
    "with open(\"C:/Users/karen/OneDrive/Desktop/microdados_enem_2020/DADOS/MICRODADOS_ENEM_2020.csv\", mode=\"r\", encoding=\"latin-1\") as file:\n",
    "    reader = csv.reader(file, delimiter=\";\")\n",
    "    next(reader)  # Ignora o cabeçalho\n",
    "\n",
    "    for row in reader:\n",
    "        data_dimension_enrollment.append((\n",
    "            row[0],  # NU_INSCRICAO\n",
    "            row[1],  # NU_ANO\n",
    "            row[2],  # TP_FAIXA_ETARIA\n",
    "            row[3],  # TP_SEXO\n",
    "            row[4],  # TP_ESTADO_CIVIL\n",
    "            row[5],  # TP_COR_RACA\n",
    "            row[6],  # TP_NACIONALIDADE\n",
    "            row[7],  # TP_ST_CONCLUSAO\n",
    "            row[8],  # TP_ANO_CONCLUIU\n",
    "            row[9],  # TP_ESCOLA\n",
    "            row[10], # TP_ENSINO\n",
    "            row[11]  # IN_TREINEIRO\n",
    "        ))"
   ]
  },
  {
   "cell_type": "markdown",
   "id": "a79158f4-9da1-4981-b9ea-a50d57b0c0bb",
   "metadata": {},
   "source": [
    "#### MySQL Create Table"
   ]
  },
  {
   "cell_type": "code",
   "execution_count": 5,
   "id": "13b23170-794f-4071-9eb1-ff02f22b5018",
   "metadata": {},
   "outputs": [],
   "source": [
    "cursor.execute(\"\"\"\n",
    "    CREATE TABLE IF NOT EXISTS dimension_enrollment (\n",
    "        NU_INSCRICAO BIGINT PRIMARY KEY,\n",
    "        NU_ANO INT,\n",
    "        TP_FAIXA_ETARIA INT,\n",
    "        TP_SEXO CHAR(1),\n",
    "        TP_ESTADO_CIVIL INT,\n",
    "        TP_COR_RACA INT,\n",
    "        TP_NACIONALIDADE INT,\n",
    "        TP_ST_CONCLUSAO INT,\n",
    "        TP_ANO_CONCLUIU INT,\n",
    "        TP_ESCOLA INT,\n",
    "        TP_ENSINO INT,\n",
    "        IN_TREINEIRO BOOLEAN\n",
    "    )\n",
    "\"\"\")"
   ]
  },
  {
   "cell_type": "code",
   "execution_count": 6,
   "id": "8d3272a9-aefc-4896-87ae-8a675b8c366c",
   "metadata": {},
   "outputs": [],
   "source": [
    "conn.commit() # Grava todas as alterações no banco"
   ]
  },
  {
   "cell_type": "markdown",
   "id": "bcf886f6-77e1-48f7-bd7d-477efc352f34",
   "metadata": {},
   "source": [
    "#### MySQL Insert Data"
   ]
  },
  {
   "cell_type": "code",
   "execution_count": 7,
   "id": "4319fec1-5d21-4fee-be9d-992e08071bec",
   "metadata": {},
   "outputs": [],
   "source": [
    "chunk_size = 100000  # Inserir em lotes de 100 mil\n",
    "for i in range(0, len(data_dimension_enrollment), chunk_size):\n",
    "    batch = data_dimension_enrollment[i:i+chunk_size]\n",
    "    cursor.executemany(\"\"\"\n",
    "        INSERT IGNORE INTO dimension_enrollment (\n",
    "            NU_INSCRICAO, NU_ANO, TP_FAIXA_ETARIA, TP_SEXO, TP_ESTADO_CIVIL, TP_COR_RACA,\n",
    "            TP_NACIONALIDADE, TP_ST_CONCLUSAO, TP_ANO_CONCLUIU, TP_ESCOLA, TP_ENSINO, IN_TREINEIRO\n",
    "        ) VALUES (%s, %s, %s, %s, %s, %s, %s, %s, %s, %s, %s, %s)\n",
    "    \"\"\", batch)\n",
    "    conn.commit()\n"
   ]
  },
  {
   "cell_type": "code",
   "execution_count": 8,
   "id": "d5bdc040-b98d-46d5-a448-6407b6ca79dc",
   "metadata": {},
   "outputs": [
    {
     "name": "stdout",
     "output_type": "stream",
     "text": [
      "Total de registros na tabela: 5783109\n"
     ]
    }
   ],
   "source": [
    "cursor.execute(\"SELECT COUNT(*) FROM dimension_enrollment;\")\n",
    "rows = cursor.fetchall()\n",
    "print(f\"Total de registros na tabela: {rows[0][0]}\")"
   ]
  },
  {
   "cell_type": "markdown",
   "id": "63cbe503-520e-472a-aa2a-8ee084b5921a",
   "metadata": {
    "editable": true,
    "slideshow": {
     "slide_type": ""
    },
    "tags": []
   },
   "source": [
    "### dimension_school"
   ]
  },
  {
   "cell_type": "markdown",
   "id": "b952034f-aae5-4915-91e3-3b197e6f5092",
   "metadata": {},
   "source": [
    "#### Data Read"
   ]
  },
  {
   "cell_type": "code",
   "execution_count": 9,
   "id": "b462b984-0017-4e8b-bff6-7c14560360c0",
   "metadata": {},
   "outputs": [],
   "source": [
    "def safe_int(value, default=0):\n",
    "    \"\"\"Converte valores para int ou retorna um valor padrão.\"\"\"\n",
    "    try:\n",
    "        return int(value)\n",
    "    except ValueError:\n",
    "        return default  # Retorna o valor padrão se o valor for inválido"
   ]
  },
  {
   "cell_type": "code",
   "execution_count": 10,
   "id": "aa5ffb73-3701-41e0-b34d-96cafaf3e09e",
   "metadata": {},
   "outputs": [],
   "source": [
    "# Leitura do arquivo CSV\n",
    "data_dimension_school = []\n",
    "with open(\"C:/Users/karen/OneDrive/Desktop/microdados_enem_2020/DADOS/MICRODADOS_ENEM_2020.csv\", mode=\"r\", encoding=\"latin-1\") as file:\n",
    "    reader = csv.reader(file, delimiter=\";\")\n",
    "    next(reader)  # Ignora o cabeçalho\n",
    "\n",
    "    for row in reader:\n",
    "        data_dimension_school.append((\n",
    "            safe_int(row[0]),        # NU_INSCRICAO como BIGINT\n",
    "            safe_int(row[65]),       # CO_MUNICIPIO_ESC como INT\n",
    "            row[66] if row[66] else \"N/A\",   # NO_MUNICIPIO_ESC como VARCHAR(255), substitui vazio por \"N/A\"\n",
    "            safe_int(row[67]),       # CO_UF_ESC como INT\n",
    "            row[68] if row[68] else \"N/A\",   # SG_UF_ESC como CHAR(2), substitui vazio por \"N/A\"\n",
    "            safe_int(row[69]),       # TP_DEPENDENCIA_ADM_ESC como INT\n",
    "            safe_int(row[70]),       # TP_LOCALIZACAO_ESC como INT\n",
    "            safe_int(row[71])        # TP_SIT_FUNC_ESC como INT\n",
    "        ))"
   ]
  },
  {
   "cell_type": "code",
   "execution_count": 11,
   "id": "29e3a80a-4d53-4727-a23e-7158d49425c0",
   "metadata": {},
   "outputs": [
    {
     "name": "stdout",
     "output_type": "stream",
     "text": [
      "[(200006271946, 0, 'N/A', 0, 'N/A', 0, 0, 0), (200001195856, 0, 'N/A', 0, 'N/A', 0, 0, 0), (200001943954, 0, 'B', 0, 'A', 0, 0, 0), (200001908998, 0, 'N/A', 0, 'N/A', 0, 0, 0), (200001634757, 0, 'A', 0, 'A', 0, 0, 0), (200003132410, 0, 'B', 0, 'A', 0, 0, 0), (200001379770, 0, 'N/A', 0, 'N/A', 0, 0, 0), (200001334237, 0, 'N/A', 0, 'N/A', 0, 0, 0), (200006762554, 0, 'A', 0, 'A', 0, 0, 0), (200005146210, 0, 'A', 0, 'A', 0, 0, 0)]\n"
     ]
    }
   ],
   "source": [
    "print(data_dimension_school[:10])  # Exibe os primeiros 10 registros"
   ]
  },
  {
   "cell_type": "markdown",
   "id": "49e01d97-9720-4ec1-b9cf-c939a37b75c4",
   "metadata": {},
   "source": [
    "#### MySQL Create Table"
   ]
  },
  {
   "cell_type": "code",
   "execution_count": 12,
   "id": "33018ec2-f965-46cf-8801-3dd94dc1df35",
   "metadata": {},
   "outputs": [],
   "source": [
    "cursor.execute(\"\"\"\n",
    "    CREATE TABLE IF NOT EXISTS dimension_school (\n",
    "        NU_INSCRICAO BIGINT PRIMARY KEY,\n",
    "        CO_MUNICIPIO_ESC INT,\n",
    "        NO_MUNICIPIO_ESC VARCHAR(255),\n",
    "        CO_UF_ESC INT,\n",
    "        SG_UF_ESC CHAR(2),\n",
    "        TP_DEPENDENCIA_ADM_ESC INT,\n",
    "        TP_LOCALIZACAO_ESC INT,\n",
    "        TP_SIT_FUNC_ESC INT\n",
    "    )\n",
    "\"\"\")"
   ]
  },
  {
   "cell_type": "code",
   "execution_count": 13,
   "id": "592dd0b5-9219-463d-b492-c13b10ea35a3",
   "metadata": {},
   "outputs": [],
   "source": [
    "conn.commit()"
   ]
  },
  {
   "cell_type": "markdown",
   "id": "14e30a5c-3efa-47a6-bea8-1726a9dc34c0",
   "metadata": {},
   "source": [
    "#### MySQL Insert Data"
   ]
  },
  {
   "cell_type": "code",
   "execution_count": 14,
   "id": "31faadbc-ab6c-46a4-a381-a9942421bb5f",
   "metadata": {},
   "outputs": [],
   "source": [
    "chunk_size = 100000  # Inserir em lotes de 100 mil\n",
    "for i in range(0, len(data_dimension_school), chunk_size):\n",
    "    batch = data_dimension_school[i:i+chunk_size]\n",
    "    cursor.executemany(\"\"\"\n",
    "        INSERT IGNORE INTO dimension_school (\n",
    "            NU_INSCRICAO, CO_MUNICIPIO_ESC, NO_MUNICIPIO_ESC, CO_UF_ESC, SG_UF_ESC, \n",
    "        TP_DEPENDENCIA_ADM_ESC, TP_LOCALIZACAO_ESC, TP_SIT_FUNC_ESC\n",
    "    )\n",
    "    VALUES (%s, %s, %s, %s, %s, %s, %s, %s)\n",
    "    \"\"\", batch)\n",
    "    conn.commit()\n"
   ]
  },
  {
   "cell_type": "code",
   "execution_count": 15,
   "id": "04d4c2a8-19ae-46a7-b701-eeacf94c9339",
   "metadata": {},
   "outputs": [
    {
     "name": "stdout",
     "output_type": "stream",
     "text": [
      "Total de registros na tabela: 5783109\n"
     ]
    }
   ],
   "source": [
    "cursor.execute(\"SELECT COUNT(*) FROM dimension_school;\")\n",
    "rows = cursor.fetchall()\n",
    "print(f\"Total de registros na tabela: {rows[0][0]}\")"
   ]
  },
  {
   "cell_type": "markdown",
   "id": "50ae304f-a153-4298-9e08-60aedabca635",
   "metadata": {},
   "source": [
    "### dimension_exam"
   ]
  },
  {
   "cell_type": "markdown",
   "id": "429660b9-54da-45a1-aea1-2f4244e37f47",
   "metadata": {},
   "source": [
    "#### Data Read"
   ]
  },
  {
   "cell_type": "code",
   "execution_count": 16,
   "id": "d0250a11-0457-45fa-a129-e49e74203b93",
   "metadata": {},
   "outputs": [],
   "source": [
    "# Leitura do arquivo CSV\n",
    "data_dimension_exam = []\n",
    "with open(\"C:/Users/karen/OneDrive/Desktop/microdados_enem_2020/DADOS/MICRODADOS_ENEM_2020.csv\", mode=\"r\", encoding=\"latin-1\") as file:\n",
    "    reader = csv.reader(file, delimiter=\";\")\n",
    "    next(reader)  # Ignora o cabeçalho\n",
    "\n",
    "    for row in reader:\n",
    "        data_dimension_exam.append((\n",
    "            row[0],  # NU_INSCRICAO\n",
    "            row[12], # CO_MUNICIPIO_PROVA\n",
    "            row[13], # NO_MUNICIPIO_PROVA\n",
    "            row[14], # CO_UF_PROVA\n",
    "            row[15]  # SG_UF_PROVA\n",
    "        ))"
   ]
  },
  {
   "cell_type": "markdown",
   "id": "87cb1e64-b1c7-4805-8ace-f718799d8f7e",
   "metadata": {},
   "source": [
    "#### MySQL Create Table"
   ]
  },
  {
   "cell_type": "code",
   "execution_count": 17,
   "id": "33239bff-3e92-4bd8-aba2-c0ee9f4bbf42",
   "metadata": {},
   "outputs": [],
   "source": [
    "cursor.execute(\"\"\"\n",
    "    CREATE TABLE IF NOT EXISTS dimension_exam (\n",
    "        NU_INSCRICAO BIGINT PRIMARY KEY,\n",
    "        CO_MUNICIPIO_PROVA INT,\n",
    "        NO_MUNICIPIO_PROVA VARCHAR(255),\n",
    "        CO_UF_PROVA INT,\n",
    "        SG_UF_PROVA CHAR(2)\n",
    "    )\n",
    "\"\"\")"
   ]
  },
  {
   "cell_type": "code",
   "execution_count": 18,
   "id": "d6076d9c-0b39-474c-b316-629da7a8e631",
   "metadata": {},
   "outputs": [],
   "source": [
    "conn.commit()"
   ]
  },
  {
   "cell_type": "markdown",
   "id": "d640bf4b-9d01-47f6-9a32-e7c9e6c157fb",
   "metadata": {},
   "source": [
    "#### MySQL Insert Data"
   ]
  },
  {
   "cell_type": "code",
   "execution_count": 24,
   "id": "c45fed05-b926-411e-8b6d-81ffcc7488b6",
   "metadata": {},
   "outputs": [
    {
     "ename": "OperationalError",
     "evalue": "2013 (HY000): Lost connection to MySQL server during query",
     "output_type": "error",
     "traceback": [
      "\u001b[1;31m---------------------------------------------------------------------------\u001b[0m",
      "\u001b[1;31mMySQLInterfaceError\u001b[0m                       Traceback (most recent call last)",
      "File \u001b[1;32m~\\AppData\\Local\\Programs\\Python\\Python313\\Lib\\site-packages\\mysql\\connector\\connection_cext.py:755\u001b[0m, in \u001b[0;36mCMySQLConnection.cmd_query\u001b[1;34m(self, query, raw, buffered, raw_as_string, **kwargs)\u001b[0m\n\u001b[0;32m    754\u001b[0m         query \u001b[38;5;241m=\u001b[39m query\u001b[38;5;241m.\u001b[39mencode(\u001b[38;5;124m\"\u001b[39m\u001b[38;5;124mutf-8\u001b[39m\u001b[38;5;124m\"\u001b[39m)\n\u001b[1;32m--> 755\u001b[0m     \u001b[38;5;28;43mself\u001b[39;49m\u001b[38;5;241;43m.\u001b[39;49m\u001b[43m_cmysql\u001b[49m\u001b[38;5;241;43m.\u001b[39;49m\u001b[43mquery\u001b[49m\u001b[43m(\u001b[49m\n\u001b[0;32m    756\u001b[0m \u001b[43m        \u001b[49m\u001b[43mquery\u001b[49m\u001b[43m,\u001b[49m\n\u001b[0;32m    757\u001b[0m \u001b[43m        \u001b[49m\u001b[43mraw\u001b[49m\u001b[38;5;241;43m=\u001b[39;49m\u001b[43mraw\u001b[49m\u001b[43m,\u001b[49m\n\u001b[0;32m    758\u001b[0m \u001b[43m        \u001b[49m\u001b[43mbuffered\u001b[49m\u001b[38;5;241;43m=\u001b[39;49m\u001b[43mbuffered\u001b[49m\u001b[43m,\u001b[49m\n\u001b[0;32m    759\u001b[0m \u001b[43m        \u001b[49m\u001b[43mraw_as_string\u001b[49m\u001b[38;5;241;43m=\u001b[39;49m\u001b[43mraw_as_string\u001b[49m\u001b[43m,\u001b[49m\n\u001b[0;32m    760\u001b[0m \u001b[43m        \u001b[49m\u001b[43mquery_attrs\u001b[49m\u001b[38;5;241;43m=\u001b[39;49m\u001b[38;5;28;43mself\u001b[39;49m\u001b[38;5;241;43m.\u001b[39;49m\u001b[43mquery_attrs\u001b[49m\u001b[43m,\u001b[49m\n\u001b[0;32m    761\u001b[0m \u001b[43m    \u001b[49m\u001b[43m)\u001b[49m\n\u001b[0;32m    762\u001b[0m \u001b[38;5;28;01mexcept\u001b[39;00m MySQLInterfaceError \u001b[38;5;28;01mas\u001b[39;00m err:\n",
      "\u001b[1;31mMySQLInterfaceError\u001b[0m: Lost connection to MySQL server during query",
      "\nThe above exception was the direct cause of the following exception:\n",
      "\u001b[1;31mOperationalError\u001b[0m                          Traceback (most recent call last)",
      "Cell \u001b[1;32mIn[24], line 4\u001b[0m\n\u001b[0;32m      2\u001b[0m \u001b[38;5;28;01mfor\u001b[39;00m i \u001b[38;5;129;01min\u001b[39;00m \u001b[38;5;28mrange\u001b[39m(\u001b[38;5;241m0\u001b[39m, \u001b[38;5;28mlen\u001b[39m(data_dimension_exam), chunk_size):\n\u001b[0;32m      3\u001b[0m     batch \u001b[38;5;241m=\u001b[39m data_dimension_exam[i:i\u001b[38;5;241m+\u001b[39mchunk_size]\n\u001b[1;32m----> 4\u001b[0m     \u001b[43mcursor\u001b[49m\u001b[38;5;241;43m.\u001b[39;49m\u001b[43mexecutemany\u001b[49m\u001b[43m(\u001b[49m\u001b[38;5;124;43m\"\"\"\u001b[39;49m\n\u001b[0;32m      5\u001b[0m \u001b[38;5;124;43m        INSERT IGNORE INTO dimension_exam (\u001b[39;49m\n\u001b[0;32m      6\u001b[0m \u001b[38;5;124;43m            NU_INSCRICAO, CO_MUNICIPIO_PROVA, NO_MUNICIPIO_PROVA, CO_UF_PROVA, SG_UF_PROVA\u001b[39;49m\n\u001b[0;32m      7\u001b[0m \u001b[38;5;124;43m    )\u001b[39;49m\n\u001b[0;32m      8\u001b[0m \u001b[38;5;124;43m    VALUES (\u001b[39;49m\u001b[38;5;132;43;01m%s\u001b[39;49;00m\u001b[38;5;124;43m, \u001b[39;49m\u001b[38;5;132;43;01m%s\u001b[39;49;00m\u001b[38;5;124;43m, \u001b[39;49m\u001b[38;5;132;43;01m%s\u001b[39;49;00m\u001b[38;5;124;43m, \u001b[39;49m\u001b[38;5;132;43;01m%s\u001b[39;49;00m\u001b[38;5;124;43m, \u001b[39;49m\u001b[38;5;132;43;01m%s\u001b[39;49;00m\u001b[38;5;124;43m)\u001b[39;49m\n\u001b[0;32m      9\u001b[0m \u001b[38;5;124;43m    \u001b[39;49m\u001b[38;5;124;43m\"\"\"\u001b[39;49m\u001b[43m,\u001b[49m\u001b[43m \u001b[49m\u001b[43mbatch\u001b[49m\u001b[43m)\u001b[49m\n\u001b[0;32m     10\u001b[0m     conn\u001b[38;5;241m.\u001b[39mcommit()\n",
      "File \u001b[1;32m~\\AppData\\Local\\Programs\\Python\\Python313\\Lib\\site-packages\\mysql\\connector\\cursor_cext.py:469\u001b[0m, in \u001b[0;36mCMySQLCursor.executemany\u001b[1;34m(self, operation, seq_params)\u001b[0m\n\u001b[0;32m    467\u001b[0m     \u001b[38;5;28;01mif\u001b[39;00m stmt \u001b[38;5;129;01mis\u001b[39;00m \u001b[38;5;129;01mnot\u001b[39;00m \u001b[38;5;28;01mNone\u001b[39;00m:\n\u001b[0;32m    468\u001b[0m         \u001b[38;5;28mself\u001b[39m\u001b[38;5;241m.\u001b[39m_executed \u001b[38;5;241m=\u001b[39m stmt\n\u001b[1;32m--> 469\u001b[0m         \u001b[38;5;28;01mreturn\u001b[39;00m \u001b[38;5;28;43mself\u001b[39;49m\u001b[38;5;241;43m.\u001b[39;49m\u001b[43mexecute\u001b[49m\u001b[43m(\u001b[49m\u001b[43mcast\u001b[49m\u001b[43m(\u001b[49m\u001b[38;5;28;43mstr\u001b[39;49m\u001b[43m,\u001b[49m\u001b[43m \u001b[49m\u001b[43mstmt\u001b[49m\u001b[43m)\u001b[49m\u001b[43m)\u001b[49m\n\u001b[0;32m    471\u001b[0m rowcnt \u001b[38;5;241m=\u001b[39m \u001b[38;5;241m0\u001b[39m\n\u001b[0;32m    472\u001b[0m \u001b[38;5;28;01mtry\u001b[39;00m:\n\u001b[0;32m    473\u001b[0m     \u001b[38;5;66;03m# When processing read ops (e.g., SELECT), rowcnt is updated\u001b[39;00m\n\u001b[0;32m    474\u001b[0m     \u001b[38;5;66;03m# based on self._rowcount. For write ops (e.g., INSERT) is\u001b[39;00m\n\u001b[0;32m    475\u001b[0m     \u001b[38;5;66;03m# updated based on self._affected_rows.\u001b[39;00m\n\u001b[0;32m    476\u001b[0m     \u001b[38;5;66;03m# The variable self._description is None for write ops, that's\u001b[39;00m\n\u001b[0;32m    477\u001b[0m     \u001b[38;5;66;03m# why we use it as indicator for updating rowcnt.\u001b[39;00m\n",
      "File \u001b[1;32m~\\AppData\\Local\\Programs\\Python\\Python313\\Lib\\site-packages\\mysql\\connector\\cursor_cext.py:351\u001b[0m, in \u001b[0;36mCMySQLCursor.execute\u001b[1;34m(self, operation, params, map_results)\u001b[0m\n\u001b[0;32m    343\u001b[0m \u001b[38;5;28mself\u001b[39m\u001b[38;5;241m.\u001b[39m_executed \u001b[38;5;241m=\u001b[39m (\n\u001b[0;32m    344\u001b[0m     \u001b[38;5;28mself\u001b[39m\u001b[38;5;241m.\u001b[39m_stmt_partition[\u001b[38;5;124m\"\u001b[39m\u001b[38;5;124msingle_stmts\u001b[39m\u001b[38;5;124m\"\u001b[39m]\u001b[38;5;241m.\u001b[39mpopleft()\n\u001b[0;32m    345\u001b[0m     \u001b[38;5;28;01mif\u001b[39;00m map_results\n\u001b[0;32m    346\u001b[0m     \u001b[38;5;28;01melse\u001b[39;00m \u001b[38;5;28mself\u001b[39m\u001b[38;5;241m.\u001b[39m_stmt_partition[\u001b[38;5;124m\"\u001b[39m\u001b[38;5;124mmappable_stmt\u001b[39m\u001b[38;5;124m\"\u001b[39m]\n\u001b[0;32m    347\u001b[0m )\n\u001b[0;32m    349\u001b[0m \u001b[38;5;28;01mtry\u001b[39;00m:\n\u001b[0;32m    350\u001b[0m     \u001b[38;5;28mself\u001b[39m\u001b[38;5;241m.\u001b[39m_handle_result(\n\u001b[1;32m--> 351\u001b[0m         \u001b[38;5;28;43mself\u001b[39;49m\u001b[38;5;241;43m.\u001b[39;49m\u001b[43m_connection\u001b[49m\u001b[38;5;241;43m.\u001b[39;49m\u001b[43mcmd_query\u001b[49m\u001b[43m(\u001b[49m\n\u001b[0;32m    352\u001b[0m \u001b[43m            \u001b[49m\u001b[38;5;28;43mself\u001b[39;49m\u001b[38;5;241;43m.\u001b[39;49m\u001b[43m_stmt_partition\u001b[49m\u001b[43m[\u001b[49m\u001b[38;5;124;43m\"\u001b[39;49m\u001b[38;5;124;43mmappable_stmt\u001b[39;49m\u001b[38;5;124;43m\"\u001b[39;49m\u001b[43m]\u001b[49m\u001b[43m,\u001b[49m\n\u001b[0;32m    353\u001b[0m \u001b[43m            \u001b[49m\u001b[43mraw\u001b[49m\u001b[38;5;241;43m=\u001b[39;49m\u001b[38;5;28;43mself\u001b[39;49m\u001b[38;5;241;43m.\u001b[39;49m\u001b[43m_raw\u001b[49m\u001b[43m,\u001b[49m\n\u001b[0;32m    354\u001b[0m \u001b[43m            \u001b[49m\u001b[43mbuffered\u001b[49m\u001b[38;5;241;43m=\u001b[39;49m\u001b[38;5;28;43mself\u001b[39;49m\u001b[38;5;241;43m.\u001b[39;49m\u001b[43m_buffered\u001b[49m\u001b[43m,\u001b[49m\n\u001b[0;32m    355\u001b[0m \u001b[43m            \u001b[49m\u001b[43mraw_as_string\u001b[49m\u001b[38;5;241;43m=\u001b[39;49m\u001b[38;5;28;43mself\u001b[39;49m\u001b[38;5;241;43m.\u001b[39;49m\u001b[43m_raw_as_string\u001b[49m\u001b[43m,\u001b[49m\n\u001b[0;32m    356\u001b[0m \u001b[43m        \u001b[49m\u001b[43m)\u001b[49m\n\u001b[0;32m    357\u001b[0m     )\n\u001b[0;32m    358\u001b[0m \u001b[38;5;28;01mexcept\u001b[39;00m MySQLInterfaceError \u001b[38;5;28;01mas\u001b[39;00m err:\n\u001b[0;32m    359\u001b[0m     \u001b[38;5;28;01mraise\u001b[39;00m get_mysql_exception(\n\u001b[0;32m    360\u001b[0m         msg\u001b[38;5;241m=\u001b[39merr\u001b[38;5;241m.\u001b[39mmsg, errno\u001b[38;5;241m=\u001b[39merr\u001b[38;5;241m.\u001b[39merrno, sqlstate\u001b[38;5;241m=\u001b[39merr\u001b[38;5;241m.\u001b[39msqlstate\n\u001b[0;32m    361\u001b[0m     ) \u001b[38;5;28;01mfrom\u001b[39;00m\u001b[38;5;250m \u001b[39m\u001b[38;5;21;01merr\u001b[39;00m\n",
      "File \u001b[1;32m~\\AppData\\Local\\Programs\\Python\\Python313\\Lib\\site-packages\\mysql\\connector\\opentelemetry\\context_propagation.py:97\u001b[0m, in \u001b[0;36mwith_context_propagation.<locals>.wrapper\u001b[1;34m(cnx, *args, **kwargs)\u001b[0m\n\u001b[0;32m     95\u001b[0m \u001b[38;5;66;03m# pylint: disable=possibly-used-before-assignment\u001b[39;00m\n\u001b[0;32m     96\u001b[0m \u001b[38;5;28;01mif\u001b[39;00m \u001b[38;5;129;01mnot\u001b[39;00m OTEL_ENABLED \u001b[38;5;129;01mor\u001b[39;00m \u001b[38;5;129;01mnot\u001b[39;00m cnx\u001b[38;5;241m.\u001b[39motel_context_propagation:\n\u001b[1;32m---> 97\u001b[0m     \u001b[38;5;28;01mreturn\u001b[39;00m \u001b[43mmethod\u001b[49m\u001b[43m(\u001b[49m\u001b[43mcnx\u001b[49m\u001b[43m,\u001b[49m\u001b[43m \u001b[49m\u001b[38;5;241;43m*\u001b[39;49m\u001b[43margs\u001b[49m\u001b[43m,\u001b[49m\u001b[43m \u001b[49m\u001b[38;5;241;43m*\u001b[39;49m\u001b[38;5;241;43m*\u001b[39;49m\u001b[43mkwargs\u001b[49m\u001b[43m)\u001b[49m\n\u001b[0;32m     99\u001b[0m current_span \u001b[38;5;241m=\u001b[39m trace\u001b[38;5;241m.\u001b[39mget_current_span()\n\u001b[0;32m    100\u001b[0m tp_header \u001b[38;5;241m=\u001b[39m \u001b[38;5;28;01mNone\u001b[39;00m\n",
      "File \u001b[1;32m~\\AppData\\Local\\Programs\\Python\\Python313\\Lib\\site-packages\\mysql\\connector\\connection_cext.py:763\u001b[0m, in \u001b[0;36mCMySQLConnection.cmd_query\u001b[1;34m(self, query, raw, buffered, raw_as_string, **kwargs)\u001b[0m\n\u001b[0;32m    755\u001b[0m     \u001b[38;5;28mself\u001b[39m\u001b[38;5;241m.\u001b[39m_cmysql\u001b[38;5;241m.\u001b[39mquery(\n\u001b[0;32m    756\u001b[0m         query,\n\u001b[0;32m    757\u001b[0m         raw\u001b[38;5;241m=\u001b[39mraw,\n\u001b[1;32m   (...)\u001b[0m\n\u001b[0;32m    760\u001b[0m         query_attrs\u001b[38;5;241m=\u001b[39m\u001b[38;5;28mself\u001b[39m\u001b[38;5;241m.\u001b[39mquery_attrs,\n\u001b[0;32m    761\u001b[0m     )\n\u001b[0;32m    762\u001b[0m \u001b[38;5;28;01mexcept\u001b[39;00m MySQLInterfaceError \u001b[38;5;28;01mas\u001b[39;00m err:\n\u001b[1;32m--> 763\u001b[0m     \u001b[38;5;28;01mraise\u001b[39;00m get_mysql_exception(\n\u001b[0;32m    764\u001b[0m         err\u001b[38;5;241m.\u001b[39merrno, msg\u001b[38;5;241m=\u001b[39merr\u001b[38;5;241m.\u001b[39mmsg, sqlstate\u001b[38;5;241m=\u001b[39merr\u001b[38;5;241m.\u001b[39msqlstate\n\u001b[0;32m    765\u001b[0m     ) \u001b[38;5;28;01mfrom\u001b[39;00m\u001b[38;5;250m \u001b[39m\u001b[38;5;21;01merr\u001b[39;00m\n\u001b[0;32m    766\u001b[0m \u001b[38;5;28;01mexcept\u001b[39;00m \u001b[38;5;167;01mAttributeError\u001b[39;00m \u001b[38;5;28;01mas\u001b[39;00m err:\n\u001b[0;32m    767\u001b[0m     addr \u001b[38;5;241m=\u001b[39m (\n\u001b[0;32m    768\u001b[0m         \u001b[38;5;28mself\u001b[39m\u001b[38;5;241m.\u001b[39m_unix_socket \u001b[38;5;28;01mif\u001b[39;00m \u001b[38;5;28mself\u001b[39m\u001b[38;5;241m.\u001b[39m_unix_socket \u001b[38;5;28;01melse\u001b[39;00m \u001b[38;5;124mf\u001b[39m\u001b[38;5;124m\"\u001b[39m\u001b[38;5;132;01m{\u001b[39;00m\u001b[38;5;28mself\u001b[39m\u001b[38;5;241m.\u001b[39m_host\u001b[38;5;132;01m}\u001b[39;00m\u001b[38;5;124m:\u001b[39m\u001b[38;5;132;01m{\u001b[39;00m\u001b[38;5;28mself\u001b[39m\u001b[38;5;241m.\u001b[39m_port\u001b[38;5;132;01m}\u001b[39;00m\u001b[38;5;124m\"\u001b[39m\n\u001b[0;32m    769\u001b[0m     )\n",
      "\u001b[1;31mOperationalError\u001b[0m: 2013 (HY000): Lost connection to MySQL server during query"
     ]
    }
   ],
   "source": [
    "chunk_size = 50000  # Inserir em lotes de 50 mil\n",
    "for i in range(0, len(data_dimension_exam), chunk_size):\n",
    "    batch = data_dimension_exam[i:i+chunk_size]\n",
    "    cursor.executemany(\"\"\"\n",
    "        INSERT IGNORE INTO dimension_exam (\n",
    "            NU_INSCRICAO, CO_MUNICIPIO_PROVA, NO_MUNICIPIO_PROVA, CO_UF_PROVA, SG_UF_PROVA\n",
    "    )\n",
    "    VALUES (%s, %s, %s, %s, %s)\n",
    "    \"\"\", batch)\n",
    "    conn.commit()\n"
   ]
  },
  {
   "cell_type": "code",
   "execution_count": null,
   "id": "0b4a2df5-0697-46e2-accb-23d51a0403b4",
   "metadata": {},
   "outputs": [],
   "source": [
    "cursor.execute(\"SELECT COUNT(*) FROM dimension_exam;\")\n",
    "rows = cursor.fetchall()\n",
    "print(f\"Total de registros na tabela: {rows[0][0]}\")"
   ]
  },
  {
   "cell_type": "markdown",
   "id": "0d417115-f65e-4e1e-abee-cf944479361e",
   "metadata": {},
   "source": [
    "## Fact Tables"
   ]
  },
  {
   "cell_type": "markdown",
   "id": "9a7dc2f8-eba7-439e-8f37-ed0c558ebf59",
   "metadata": {},
   "source": [
    "### fact_exam"
   ]
  },
  {
   "cell_type": "markdown",
   "id": "36f31b2c-0adc-43ff-b579-6d77e67fa456",
   "metadata": {},
   "source": [
    "### MySQL Create Table"
   ]
  },
  {
   "cell_type": "markdown",
   "id": "4040871f-dbd6-4bd7-adec-858cb192b604",
   "metadata": {},
   "source": [
    "#### Data Read"
   ]
  },
  {
   "cell_type": "code",
   "execution_count": null,
   "id": "6e569933-f26b-477d-9226-2e01bbd89dca",
   "metadata": {},
   "outputs": [],
   "source": [
    "# Leitura do arquivo CSV\n",
    "data_fact_exam = []\n",
    "with open(\"C:/Users/karen/OneDrive/Desktop/microdados_enem_2020/DADOS/MICRODADOS_ENEM_2020.csv\", mode=\"r\", encoding=\"latin-1\") as file:\n",
    "    reader = csv.reader(file, delimiter=\";\")\n",
    "    next(reader)  # Ignora o cabeçalho\n",
    "\n",
    "    for row in reader:\n",
    "        data_fact_exam"
   ]
  },
  {
   "cell_type": "code",
   "execution_count": null,
   "id": "03d5aadb-73e5-48bd-931b-b3ca1f27caf5",
   "metadata": {},
   "outputs": [],
   "source": [
    "cursor.execute(\"\"\"\n",
    "    CREATE TABLE IF NOT EXISTS fact_exam (\n",
    "        NU_INSCRICAO BIGINT PRIMARY KEY,\n",
    "        TP_PRESENCA_CN BOOLEAN,\n",
    "        TP_PRESENCA_CH BOOLEAN,\n",
    "        TP_PRESENCA_LC BOOLEAN,\n",
    "        TP_PRESENCA_MT BOOLEAN,\n",
    "        CO_PROVA_CN INT,\n",
    "        CO_PROVA_CH INT,\n",
    "        CO_PROVA_LC INT,\n",
    "        CO_PROVA_MT INT,\n",
    "        NU_NOTA_CN FLOAT,\n",
    "        NU_NOTA_CH FLOAT,\n",
    "        NU_NOTA_LC FLOAT,\n",
    "        NU_NOTA_MT FLOAT,\n",
    "        TX_RESPOSTAS_CN VARCHAR(255),\n",
    "        TX_RESPOSTAS_CH VARCHAR(255),\n",
    "        TX_RESPOSTAS_LC VARCHAR(255),\n",
    "        TX_RESPOSTAS_MT VARCHAR(255),\n",
    "        TP_LINGUA BOOLEAN,\n",
    "        TX_GABARITO_CN VARCHAR(255),\n",
    "        TX_GABARITO_CH VARCHAR(255),\n",
    "        TX_GABARITO_LC VARCHAR(255),\n",
    "        TX_GABARITO_MT VARCHAR(255)\n",
    "    )\n",
    "\"\"\")"
   ]
  },
  {
   "cell_type": "code",
   "execution_count": null,
   "id": "1c01a8b6-e6ec-4bdc-bf6e-7a8117a9bdd0",
   "metadata": {},
   "outputs": [],
   "source": [
    "conn.commit()"
   ]
  },
  {
   "cell_type": "markdown",
   "id": "b953c1ae-4715-4882-af5c-1f89f7d2507d",
   "metadata": {},
   "source": [
    "#### MySQL Insert Data"
   ]
  },
  {
   "cell_type": "code",
   "execution_count": null,
   "id": "ed0d9c5d-6b0b-4b33-8423-eb9adfb4e49f",
   "metadata": {},
   "outputs": [],
   "source": [
    "chunk_size = 100000  # Inserir em lotes de 100 mil\n",
    "for i in range(0, len(data_fact_exam), chunk_size):\n",
    "    batch = data_fact_exam[i:i+chunk_size]\n",
    "    cursor.executemany(\"\"\"\n",
    "        NU_INSCRICAO, TP_PRESENCA_CN, TP_PRESENCA_CH, TP_PRESENCA_LC, TP_PRESENCA_MT,\n",
    "        CO_PROVA_CN, CO_PROVA_CH, CO_PROVA_LC, CO_PROVA_MT, NU_NOTA_CN, NU_NOTA_CH,\n",
    "        NU_NOTA_LC, NU_NOTA_MT, TX_RESPOSTAS_CN, TX_RESPOSTAS_CH, TX_RESPOSTAS_LC,\n",
    "        TX_RESPOSTAS_MT, TP_LINGUA, TX_GABARITO_CN, TX_GABARITO_CH, TX_GABARITO_LC,\n",
    "        TX_GABARITO_MT\n",
    "    )\n",
    "    VALUES (%s, %s, %s, %s, %s, %s, %s, %s, %s, %s, %s, %s, %s, %s, %s, %s, %s, %s, %s, %s, %s, %s)\n",
    "    \"\"\", batch)\n",
    "    conn.commit()\n"
   ]
  },
  {
   "cell_type": "code",
   "execution_count": null,
   "id": "0775892b-6a87-4d99-b864-b5b3513dee75",
   "metadata": {},
   "outputs": [],
   "source": [
    "cursor.execute(\"SELECT COUNT(*) FROM fact_exam;\")\n",
    "rows = cursor.fetchall()\n",
    "print(f\"Total de registros na tabela: {rows[0][0]}\")"
   ]
  },
  {
   "cell_type": "markdown",
   "id": "b7b4a5b0-822c-4d95-8dd8-ab389e2b846a",
   "metadata": {},
   "source": [
    "### fact_composing"
   ]
  },
  {
   "cell_type": "markdown",
   "id": "b83965e4-c2e6-41d3-93a5-2974c4694a46",
   "metadata": {},
   "source": [
    "#### Data Read"
   ]
  },
  {
   "cell_type": "code",
   "execution_count": null,
   "id": "61b28a4b-d743-4160-97c0-e685601fc848",
   "metadata": {},
   "outputs": [],
   "source": [
    "# Leitura do arquivo CSV\n",
    "data_fact_composing = []\n",
    "with open(\"C:/Users/karen/OneDrive/Desktop/microdados_enem_2020/DADOS/MICRODADOS_ENEM_2020.csv\", mode=\"r\", encoding=\"latin-1\") as file:\n",
    "    reader = csv.reader(file, delimiter=\";\")\n",
    "    next(reader)  # Ignora o cabeçalho\n",
    "\n",
    "    for row in reader:\n",
    "        data_fact_composing.append((\n",
    "            int(row[0]),  # NU_INSCRICAO como BIGINT\n",
    "            int(row[33]), # TP_STATUS_REDACAO como INT\n",
    "            int(row[34]), # NU_NOTA_COMP1 como INT\n",
    "            int(row[35]), # NU_NOTA_COMP2 como INT\n",
    "            int(row[36]), # NU_NOTA_COMP3 como INT\n",
    "            int(row[37]), # NU_NOTA_COMP4 como INT\n",
    "            int(row[38]), # NU_NOTA_COMP5 como INT\n",
    "            float(row[39]) # NU_NOTA_REDACAO como FLOAT\n",
    "        ))"
   ]
  },
  {
   "cell_type": "markdown",
   "id": "3288fae9-0da0-47d7-b247-53f986bd5142",
   "metadata": {},
   "source": [
    "#### MySQL Create Table"
   ]
  },
  {
   "cell_type": "code",
   "execution_count": null,
   "id": "130b37cc-28a0-44d6-ae70-5c17ff967e49",
   "metadata": {},
   "outputs": [],
   "source": [
    "cursor.execute(\"\"\"\n",
    "    CREATE TABLE IF NOT EXISTS fact_composing (\n",
    "        NU_INSCRICAO BIGINT PRIMARY KEY,\n",
    "        TP_STATUS_REDACAO INT,\n",
    "        NU_NOTA_COMP1 INT,\n",
    "        NU_NOTA_COMP2 INT,\n",
    "        NU_NOTA_COMP3 INT,\n",
    "        NU_NOTA_COMP4 INT,\n",
    "        NU_NOTA_COMP5 INT,\n",
    "        NU_NOTA_REDACAO INT\n",
    "    )\n",
    "\"\"\")"
   ]
  },
  {
   "cell_type": "code",
   "execution_count": null,
   "id": "4f91e5da-3cb1-4ffd-be4a-089275453fb5",
   "metadata": {},
   "outputs": [],
   "source": [
    "conn.commit()"
   ]
  },
  {
   "cell_type": "markdown",
   "id": "36241d3a-53d5-473d-ad2d-b1c793624e8a",
   "metadata": {},
   "source": [
    "#### MySQL Insert Data"
   ]
  },
  {
   "cell_type": "code",
   "execution_count": null,
   "id": "7e1bae66-098b-4189-a3b4-c36cdae81653",
   "metadata": {},
   "outputs": [],
   "source": [
    "chunk_size = 100000  # Inserir em lotes de 100 mil\n",
    "for i in range(0, len(data_fact_composing), chunk_size):\n",
    "    batch = data_fact_composing[i:i+chunk_size]\n",
    "    cursor.executemany(\"\"\"\n",
    "        NU_INSCRICAO, TP_STATUS_REDACAO, NU_NOTA_COMP1, NU_NOTA_COMP2, NU_NOTA_COMP3, \n",
    "        NU_NOTA_COMP4, NU_NOTA_COMP5, NU_NOTA_REDACAO\n",
    "    )\n",
    "    VALUES (%s, %s, %s, %s, %s, %s, %s, %s)\n",
    "    \"\"\", batch)\n",
    "    conn.commit()\n"
   ]
  },
  {
   "cell_type": "code",
   "execution_count": null,
   "id": "2abe3a5e-e4be-47e9-8abd-9bb2d4d9da57",
   "metadata": {},
   "outputs": [],
   "source": [
    "cursor.execute(\"SELECT COUNT(*) FROM fact_composing;\")\n",
    "rows = cursor.fetchall()\n",
    "print(f\"Total de registros na tabela: {rows[0][0]}\")"
   ]
  },
  {
   "cell_type": "markdown",
   "id": "85e35d32-5e38-48be-8ba4-edce9706650b",
   "metadata": {},
   "source": [
    "### fact_socioeconomic_questionnaire"
   ]
  },
  {
   "cell_type": "markdown",
   "id": "4395c260-9477-4f78-977f-c95fdf04c7e5",
   "metadata": {},
   "source": [
    "#### Data Read"
   ]
  },
  {
   "cell_type": "code",
   "execution_count": null,
   "id": "8c4241f7-f9e6-46a2-8eba-4c1c21ba43cf",
   "metadata": {},
   "outputs": [],
   "source": [
    "# Leitura do arquivo CSV\n",
    "data_fact_socioeconomic_questionnaire = []\n",
    "with open(\"C:/Users/karen/OneDrive/Desktop/microdados_enem_2020/DADOS/MICRODADOS_ENEM_2020.csv\", mode=\"r\", encoding=\"latin-1\") as file:\n",
    "    reader = csv.reader(file, delimiter=\";\")\n",
    "    next(reader)  # Ignora o cabeçalho\n",
    "\n",
    "    for row in reader:\n",
    "        data_fact_socioeconomic_questionnaire.append((\n",
    "            int(row[0]),  # NU_INSCRICAO como BIGINT\n",
    "            row[40],      # Q001 como VARCHAR(255)\n",
    "            row[41],      # Q002 como VARCHAR(255)\n",
    "            row[42],      # Q003 como VARCHAR(255)\n",
    "            row[43],      # Q004 como VARCHAR(255)\n",
    "            row[44],      # Q005 como VARCHAR(255)\n",
    "            row[45],      # Q006 como VARCHAR(255)\n",
    "            row[46],      # Q007 como VARCHAR(255)\n",
    "            row[47],      # Q008 como VARCHAR(255)\n",
    "            row[48],      # Q009 como VARCHAR(255)\n",
    "            row[49],      # Q010 como VARCHAR(255)\n",
    "            row[50],      # Q011 como VARCHAR(255)\n",
    "            row[51],      # Q012 como VARCHAR(255)\n",
    "            row[52],      # Q013 como VARCHAR(255)\n",
    "            row[53],      # Q014 como VARCHAR(255)\n",
    "            row[54],      # Q015 como VARCHAR(255)\n",
    "            row[55],      # Q016 como VARCHAR(255)\n",
    "            row[56],      # Q017 como VARCHAR(255)\n",
    "            row[57],      # Q018 como VARCHAR(255)\n",
    "            row[58],      # Q019 como VARCHAR(255)\n",
    "            row[59],      # Q020 como VARCHAR(255)\n",
    "            row[60],      # Q021 como VARCHAR(255)\n",
    "            row[61],      # Q022 como VARCHAR(255)\n",
    "            row[62],      # Q023 como VARCHAR(255)\n",
    "            row[63],      # Q024 como VARCHAR(255)\n",
    "            row[64]       # Q025 como VARCHAR(255)\n",
    "        ))"
   ]
  },
  {
   "cell_type": "markdown",
   "id": "2ae1063e-7eb8-47a0-b0c7-a0f6d84f0dd3",
   "metadata": {},
   "source": [
    "#### MySQL Create Table"
   ]
  },
  {
   "cell_type": "code",
   "execution_count": null,
   "id": "7cd468fa-1824-4539-8ede-954427f209ff",
   "metadata": {},
   "outputs": [],
   "source": [
    "cursor.execute(\"\"\"\n",
    "    CREATE TABLE IF NOT EXISTS fact_socioeconomic_questionnaire (\n",
    "        NU_INSCRICAO BIGINT PRIMARY KEY,\n",
    "        Q001 VARCHAR(255),\n",
    "        Q002 VARCHAR(255),\n",
    "        Q003 VARCHAR(255),\n",
    "        Q004 VARCHAR(255),\n",
    "        Q005 VARCHAR(255),\n",
    "        Q006 VARCHAR(255),\n",
    "        Q007 VARCHAR(255),\n",
    "        Q008 VARCHAR(255),\n",
    "        Q009 VARCHAR(255),\n",
    "        Q010 VARCHAR(255),\n",
    "        Q011 VARCHAR(255),\n",
    "        Q012 VARCHAR(255),\n",
    "        Q013 VARCHAR(255),\n",
    "        Q014 VARCHAR(255),\n",
    "        Q015 VARCHAR(255),\n",
    "        Q016 VARCHAR(255),\n",
    "        Q017 VARCHAR(255),\n",
    "        Q018 VARCHAR(255),\n",
    "        Q019 VARCHAR(255),\n",
    "        Q020 VARCHAR(255),\n",
    "        Q021 VARCHAR(255),\n",
    "        Q022 VARCHAR(255),\n",
    "        Q023 VARCHAR(255),\n",
    "        Q024 VARCHAR(255),\n",
    "        Q025 VARCHAR(255)\n",
    "    )\n",
    "\"\"\")"
   ]
  },
  {
   "cell_type": "code",
   "execution_count": null,
   "id": "dbbadc6c-ecc7-47b5-9e5e-565b1e829d3a",
   "metadata": {},
   "outputs": [],
   "source": [
    "conn.commit()"
   ]
  },
  {
   "cell_type": "markdown",
   "id": "b1ba60a6-7d32-4548-8bef-232be3ae5d8d",
   "metadata": {},
   "source": [
    "#### MySQL Insert Data"
   ]
  },
  {
   "cell_type": "code",
   "execution_count": null,
   "id": "86fa461c-81c6-469d-95e6-080114527d97",
   "metadata": {},
   "outputs": [],
   "source": [
    "chunk_size = 100000  # Inserir em lotes de 100 mil\n",
    "for i in range(0, len(data_fact_socioeconomic_questionnaire), chunk_size):\n",
    "    batch = data_fact_socioeconomic_questionnaire[i:i+chunk_size]\n",
    "    cursor.executemany(\"\"\"\n",
    "        NU_INSCRICAO, Q001, Q002, Q003, Q004, Q005, Q006, Q007, Q008, Q009, \n",
    "        Q010, Q011, Q012, Q013, Q014, Q015, Q016, Q017, Q018, Q019, \n",
    "        Q020, Q021, Q022, Q023, Q024, Q025\n",
    "    )\n",
    "    VALUES (%s, %s, %s, %s, %s, %s, %s, %s, %s, %s, %s, %s, %s, %s, %s, %s, \n",
    "            %s, %s, %s, %s, %s, %s, %s, %s, %s, %s)\n",
    "    \"\"\", batch)\n",
    "    conn.commit()\n"
   ]
  },
  {
   "cell_type": "code",
   "execution_count": null,
   "id": "97a4865b-0254-4d6c-9baa-05cf9c5764a4",
   "metadata": {},
   "outputs": [],
   "source": [
    "cursor.execute(\"SELECT COUNT(*) FROM fact_socioeconomic_questionnaire;\")\n",
    "rows = cursor.fetchall()\n",
    "print(f\"Total de registros na tabela: {rows[0][0]}\")"
   ]
  },
  {
   "cell_type": "markdown",
   "id": "d74b36a7-103c-4fc8-bca3-a84579aad03a",
   "metadata": {},
   "source": [
    "# Listing the tables"
   ]
  },
  {
   "cell_type": "code",
   "execution_count": null,
   "id": "c073e038-dc54-4374-8321-d302a14cb6b9",
   "metadata": {},
   "outputs": [],
   "source": [
    "cursor.execute(\"SHOW TABLES;\")\n",
    "tables = cursor.fetchall()\n",
    "print(\"Tabelas no banco de dados:\", tables)"
   ]
  },
  {
   "cell_type": "markdown",
   "id": "392ecc4d-9068-45b6-b6bd-9010e138448a",
   "metadata": {},
   "source": [
    "# Tables Structure"
   ]
  },
  {
   "cell_type": "code",
   "execution_count": null,
   "id": "b9b5fdd4-6b0f-41d6-a021-a58379e77139",
   "metadata": {},
   "outputs": [],
   "source": [
    "cursor.execute(\"DESCRIBE dimension_enrollment;\")\n",
    "table_structure = cursor.fetchall()\n",
    "for column in table_structure:\n",
    "    print(column)"
   ]
  },
  {
   "cell_type": "markdown",
   "id": "0ce3d7d2-b1a4-4775-aa40-7acbe51e5b8d",
   "metadata": {},
   "source": [
    "# Testing the data insert"
   ]
  },
  {
   "cell_type": "code",
   "execution_count": null,
   "id": "6b158290-1c15-4a73-a07f-0aa25207973a",
   "metadata": {},
   "outputs": [],
   "source": [
    "cursor.execute(\"SELECT * FROM dimension_enrollment LIMIT 10;\")\n",
    "rows = print(cursor.fetchall())\n",
    "print(rows)"
   ]
  }
 ],
 "metadata": {
  "kernelspec": {
   "display_name": "Python 3 (ipykernel)",
   "language": "python",
   "name": "python3"
  },
  "language_info": {
   "codemirror_mode": {
    "name": "ipython",
    "version": 3
   },
   "file_extension": ".py",
   "mimetype": "text/x-python",
   "name": "python",
   "nbconvert_exporter": "python",
   "pygments_lexer": "ipython3",
   "version": "3.13.2"
  }
 },
 "nbformat": 4,
 "nbformat_minor": 5
}
